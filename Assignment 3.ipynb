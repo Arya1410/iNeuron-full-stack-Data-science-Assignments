{
 "cells": [
  {
   "cell_type": "markdown",
   "id": "3f93b3b6",
   "metadata": {},
   "source": [
    "### 1. Why are functions advantageous to have in your programs?\n",
    "\n",
    "Ans:\n",
    "- Using a function, it is possible to reduce the size of a program by calling and using the function at different places in the program.\n",
    "- Functions help in code modularity, which means that the entire code is divided into separate blocks, each of which is self-contained and performs a different task."
   ]
  },
  {
   "cell_type": "markdown",
   "id": "e02417b1",
   "metadata": {},
   "source": [
    "### 2. When does the code in a function run: when it's specified or when it's called?\n",
    "\n",
    "Ans:\n",
    "- The code in the function run when the function is called, not when it is specified"
   ]
  },
  {
   "cell_type": "markdown",
   "id": "44fad4fb",
   "metadata": {},
   "source": [
    "### 3. What statement creates a function?\n",
    "Ans:\n",
    "- The def statement(keyword) created(i.e. defines) a funtion"
   ]
  },
  {
   "cell_type": "markdown",
   "id": "4ea676ed",
   "metadata": {},
   "source": [
    "### 4. What is the difference between a function and a function call?\n",
    "Ans:\n",
    "- A function consists of the def statement and the code in its def clause.\n",
    "- A function call is what moves the program execution into the function, and the function call evaluates to the function's return value."
   ]
  },
  {
   "cell_type": "markdown",
   "id": "ce535454",
   "metadata": {},
   "source": [
    "### 5. How many global scopes are there in a Python program? How many local scopes?\n",
    "Ans:\n",
    "- There is one global scope, and a local scope is created whenever a function is called."
   ]
  },
  {
   "cell_type": "markdown",
   "id": "413c34f3",
   "metadata": {},
   "source": [
    "### 6. What happens to variables in a local scope when the function call returns?\n",
    "Ans:\n",
    "- When a function returns, the local scope is destroyed, and all the variables in it are forgotten."
   ]
  },
  {
   "cell_type": "markdown",
   "id": "bb18d379",
   "metadata": {},
   "source": [
    "### 7. What is the concept of a return value? Is it possible to have a return value in an expression?\n",
    "Ans:\n",
    "- A return value is the value that a function call evaluates to. Like any value, a return value can be used as part of an expression."
   ]
  },
  {
   "cell_type": "markdown",
   "id": "b97a6a37",
   "metadata": {},
   "source": [
    "### 8. If a function does not have a return statement, what is the return value of a call to that function?\n",
    "Ans:\n",
    "- If there is no return statement for a function, its return value is None."
   ]
  },
  {
   "cell_type": "markdown",
   "id": "98a3452f",
   "metadata": {},
   "source": [
    "### 9. How do you make a function variable refer to the global variable?\n",
    "Ans:\n",
    "- A global statement will force a variable in a function to refer to the global variable."
   ]
  },
  {
   "cell_type": "markdown",
   "id": "8438b797",
   "metadata": {},
   "source": [
    "### 10. What is the data type of None?\n",
    "Ans:\n",
    "- The data type of None is NoneType."
   ]
  },
  {
   "cell_type": "markdown",
   "id": "e143cf4c",
   "metadata": {},
   "source": [
    "### 11. What does the sentence import areallyourpetsnamederic do?\n",
    "Ans:\n",
    "- That import statement imports a module named areallyourpetsnamederic."
   ]
  },
  {
   "cell_type": "markdown",
   "id": "f0f70ab9",
   "metadata": {},
   "source": [
    "### 12. If you had a bacon() feature in a spam module, what would you call it after importing spam?\n",
    "Ans:\n",
    "- This function can be called with spam.bacon()."
   ]
  },
  {
   "cell_type": "markdown",
   "id": "8d33a0f5",
   "metadata": {},
   "source": [
    "### 13. What can you do to save a programme from crashing if it encounters an error?\n",
    "Ans:\n",
    "- Place the line of code that might cause an error in a try clause."
   ]
  },
  {
   "cell_type": "markdown",
   "id": "bb0474ba",
   "metadata": {},
   "source": [
    "### 14. What is the purpose of the try clause? What is the purpose of the except clause?\n",
    "\n",
    "Ans:\n",
    "- The code that could potentially cause an error goes in the try clause.\n",
    "- The code that executes if an error happens goes in the except clause."
   ]
  },
  {
   "cell_type": "code",
   "execution_count": null,
   "id": "7013bd6b",
   "metadata": {},
   "outputs": [],
   "source": []
  }
 ],
 "metadata": {
  "kernelspec": {
   "display_name": "Python 3 (ipykernel)",
   "language": "python",
   "name": "python3"
  },
  "language_info": {
   "codemirror_mode": {
    "name": "ipython",
    "version": 3
   },
   "file_extension": ".py",
   "mimetype": "text/x-python",
   "name": "python",
   "nbconvert_exporter": "python",
   "pygments_lexer": "ipython3",
   "version": "3.9.12"
  }
 },
 "nbformat": 4,
 "nbformat_minor": 5
}
