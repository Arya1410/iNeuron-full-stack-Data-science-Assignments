{
 "cells": [
  {
   "cell_type": "markdown",
   "id": "9ee8745f",
   "metadata": {},
   "source": [
    "## Question.1) Write a Python program to convert kilometers to miles?"
   ]
  },
  {
   "cell_type": "code",
   "execution_count": 7,
   "id": "d50fe332",
   "metadata": {},
   "outputs": [
    {
     "name": "stdout",
     "output_type": "stream",
     "text": [
      "Enter a speed in kilometer : 50\n",
      "converted value in the miles is :  31.05 miles\n"
     ]
    }
   ],
   "source": [
    "km = float(input(\"Enter a speed in kilometer : \" ))   # 1 km = o.621 miles\n",
    "a = 0.621\n",
    "miles = km*a\n",
    "print(\"converted value in the miles is : \" , miles , \"miles\")\n"
   ]
  },
  {
   "cell_type": "markdown",
   "id": "9a6a5d63",
   "metadata": {},
   "source": [
    "## Question.2) Write a Python program to convert Celsius to Fahrenheit?"
   ]
  },
  {
   "cell_type": "code",
   "execution_count": 9,
   "id": "6f3251a9",
   "metadata": {},
   "outputs": [
    {
     "name": "stdout",
     "output_type": "stream",
     "text": [
      "Enter a value of Temperature in Celsius : 37.5\n",
      "Temperature in Fahrenheit is :  99.5\n"
     ]
    }
   ],
   "source": [
    "Celsius = float(input(\"Enter a value of Temperature in Celsius : \"))\n",
    "Fahrenheit = (1.8*Celsius) + 32\n",
    "print(\"Temperature in Fahrenheit is : \" , Fahrenheit)\n"
   ]
  },
  {
   "cell_type": "markdown",
   "id": "7ea359ff",
   "metadata": {},
   "source": [
    "## Question.3) Write a Python program to display calendar?"
   ]
  },
  {
   "cell_type": "code",
   "execution_count": 15,
   "id": "df02fb4f",
   "metadata": {},
   "outputs": [
    {
     "name": "stdout",
     "output_type": "stream",
     "text": [
      "Enter year of calender : 1994\n",
      "Enter month of calender : 10\n",
      "    October 1994\n",
      "Mo Tu We Th Fr Sa Su\n",
      "                1  2\n",
      " 3  4  5  6  7  8  9\n",
      "10 11 12 13 14 15 16\n",
      "17 18 19 20 21 22 23\n",
      "24 25 26 27 28 29 30\n",
      "31\n",
      "\n"
     ]
    }
   ],
   "source": [
    "import calendar\n",
    "\n",
    "yy = int(input(\"Enter year of calender : \"))\n",
    "mm = int(input(\"Enter month of calender : \"))\n",
    "print(calendar.month(yy,mm))"
   ]
  },
  {
   "cell_type": "markdown",
   "id": "fe0e0b1a",
   "metadata": {},
   "source": [
    "## Question.4) Write a Python program to solve quadratic equation?"
   ]
  },
  {
   "cell_type": "code",
   "execution_count": 17,
   "id": "cfce0fe9",
   "metadata": {},
   "outputs": [
    {
     "name": "stdout",
     "output_type": "stream",
     "text": [
      "Enter a: 1\n",
      "Enter b: -5\n",
      "Enter c: 6\n",
      "Answer of the quadratic equation is :  (2+0j) or (3+0j)\n"
     ]
    }
   ],
   "source": [
    "import cmath\n",
    "\n",
    "a = float(input('Enter a: '))  \n",
    "b = float(input('Enter b: '))  \n",
    "c = float(input('Enter c: '))  \n",
    "\n",
    "d = (b**2) - (4*a*c)  \n",
    "\n",
    "solution1 = (-b-cmath.sqrt(d))/(2*a)  \n",
    "solution2 = (-b+cmath.sqrt(d))/(2*a)  \n",
    "print(\"Answer of the quadratic equation is : \" , solution1 , \"or\" , solution2)   "
   ]
  },
  {
   "cell_type": "markdown",
   "id": "fe83f956",
   "metadata": {},
   "source": [
    "## Question.5) Write a Python program to swap two variables without temp variable?"
   ]
  },
  {
   "cell_type": "code",
   "execution_count": 12,
   "id": "88924280",
   "metadata": {},
   "outputs": [
    {
     "name": "stdout",
     "output_type": "stream",
     "text": [
      "Enter your Name : Akshay\n",
      "Enter your Surname : Chaudhari\n",
      "Surname and Name after swapping is : Chaudhari Akshay\n"
     ]
    }
   ],
   "source": [
    "x = input(\"Enter your Name : \")\n",
    "y = input(\"Enter your Surname : \")\n",
    "x,y = y,x\n",
    "print(\"Surname and Name after swapping is :\" , x,y)"
   ]
  },
  {
   "cell_type": "code",
   "execution_count": null,
   "id": "8f0309c9",
   "metadata": {},
   "outputs": [],
   "source": []
  }
 ],
 "metadata": {
  "kernelspec": {
   "display_name": "Python 3 (ipykernel)",
   "language": "python",
   "name": "python3"
  },
  "language_info": {
   "codemirror_mode": {
    "name": "ipython",
    "version": 3
   },
   "file_extension": ".py",
   "mimetype": "text/x-python",
   "name": "python",
   "nbconvert_exporter": "python",
   "pygments_lexer": "ipython3",
   "version": "3.9.12"
  }
 },
 "nbformat": 4,
 "nbformat_minor": 5
}
