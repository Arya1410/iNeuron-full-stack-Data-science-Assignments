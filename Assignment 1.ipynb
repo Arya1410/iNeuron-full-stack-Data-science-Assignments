{
 "cells": [
  {
   "cell_type": "markdown",
   "id": "ba84481c",
   "metadata": {},
   "source": [
    "## Question.1) In the below elements which of them are values or an expression? eg:- values can be integer or string and expressions will be mathematical operators.\n",
    "\n",
    "* ,'hello',-87.8,- ,/ ,+,6\n",
    "Answer -\n",
    "Values = \"hello\" , \"-87.8\" , \"6\" .\n",
    "Expression = \" * \" , \" - \" , \" / \" , \" + \" .\n"
   ]
  },
  {
   "cell_type": "markdown",
   "id": "2c7a6b2c",
   "metadata": {},
   "source": [
    "## Question.2) What is the difference between string and variable?\n",
    "\n",
    "Answer - \n",
    "Variable = Variable are used to store values. But unlike other programming languages, Python has no command for declaring a variable. A variable is created as soon as we assign a value to it.\n",
    "for example : x = 5 (here x is the type of int)\n",
    "              y= \"akshay\" (here y is the type of string)\n",
    "              print(x)\n",
    "              print(y)\n",
    "here x and y are the variables used to store the values which may be integer , string , floating number etc.\n",
    "\n",
    "String = Any sequence of characters within either single quotes or double quotes is considered as a String.\n",
    "String in python are stored as individual characters i.e indexed wise. The index by default starts with 0 .\n",
    "example : s = 'akshay'\n",
    "          s = \"akshay\"\n"
   ]
  },
  {
   "cell_type": "code",
   "execution_count": 4,
   "id": "24a5b36b",
   "metadata": {},
   "outputs": [
    {
     "name": "stdout",
     "output_type": "stream",
     "text": [
      "5\n",
      "akshay\n"
     ]
    }
   ],
   "source": [
    "x = 5       #(here x is the type of int)\n",
    "y= \"akshay\" #(here y is the type of string)\n",
    "print(x)\n",
    "print(y)"
   ]
  },
  {
   "cell_type": "markdown",
   "id": "52d73fb6",
   "metadata": {},
   "source": [
    "## Question.3) Describe three different data types\n",
    "\n",
    "Answer - Data Type represent the type of data present inside a variable. In Python we are not required to specify the type explicitly. Based on value provided,the type will be assigned automatically.\n",
    "Python contains the following inbuilt data types :\n",
    "1. int data type\n",
    "  We can use int data type to represent whole numbers (integral values)\n",
    "  for example : a = 10 \n",
    "  We can represent int values in the following ways\n",
    "  1. Decimal form 2. Binary form 3. Octal form 4. Hexa decimal form\n",
    "  \n",
    "2. float data type \n",
    "  We can use float data type to represent floating point values (decimal values)\n",
    "  for example : f=1.234\n",
    "  \n",
    "3. bool data type \n",
    "  We can use this data type to represent boolean values.\n",
    "  The only allowed values for this data type are: True and False\n",
    "  Internally Python represents True as 1 and False as 0 .\n",
    "  for example: a=10 \n",
    "               b=20\n",
    "               c=a<b \n",
    "               print(c)==>True\n"
   ]
  },
  {
   "cell_type": "code",
   "execution_count": 1,
   "id": "d590b729",
   "metadata": {},
   "outputs": [
    {
     "data": {
      "text/plain": [
       "int"
      ]
     },
     "execution_count": 1,
     "metadata": {},
     "output_type": "execute_result"
    }
   ],
   "source": [
    "a = 10 \n",
    "type(a)"
   ]
  },
  {
   "cell_type": "code",
   "execution_count": 2,
   "id": "f58644f1",
   "metadata": {},
   "outputs": [
    {
     "data": {
      "text/plain": [
       "float"
      ]
     },
     "execution_count": 2,
     "metadata": {},
     "output_type": "execute_result"
    }
   ],
   "source": [
    "f=1.234\n",
    "type(f)"
   ]
  },
  {
   "cell_type": "code",
   "execution_count": 3,
   "id": "175675b5",
   "metadata": {},
   "outputs": [
    {
     "name": "stdout",
     "output_type": "stream",
     "text": [
      "True\n"
     ]
    }
   ],
   "source": [
    "a=10 \n",
    "b=20\n",
    "c=a<b \n",
    "print(c)"
   ]
  },
  {
   "cell_type": "markdown",
   "id": "23730e76",
   "metadata": {},
   "source": [
    "## Question.4) What is an expression made up of? What do all expressions do?\n",
    "\n",
    "Answer -An expression is a combination of values, variables, operators, and calls to functions. Expressions need to be evaluated. If you ask Python to print an expression, the interpreter evaluates the expression and displays the result.\n",
    "The evaluation of an expression produces a value, which is why expressions can appear on the right hand side of assignment statements. A value all by itself is a simple expression, and so is a variable. Evaluating a variable gives the value that the variable refers to.\n",
    "\n"
   ]
  },
  {
   "cell_type": "markdown",
   "id": "1e6de3a6",
   "metadata": {},
   "source": [
    "## Question.5) This assignment statements, like spam = 10. What is the difference between an expression and a statement?"
   ]
  },
  {
   "cell_type": "markdown",
   "id": "8c416a43",
   "metadata": {},
   "source": [
    "A statement is an instruction that the Python interpreter can execute.\n",
    "In order to write programs that do things to the stuff we now call values, we need a way to store our values in the memory of the computer and to name them for later retrieval.We use Python’s assignment statement for just this purpose. \n",
    "\n",
    "An expression is a combination of values, variables, operators, and calls to functions. If you type an expression at the Python prompt, the interpreter evaluates it and displays the result, which is always a value. \n",
    "\n",
    "The evaluation of an expression produces a value, which is why expressions can appear on the right hand side of assignment statements. A value all by itself is a simple expression, and so is a variable."
   ]
  },
  {
   "cell_type": "code",
   "execution_count": 1,
   "id": "7b392b21",
   "metadata": {},
   "outputs": [],
   "source": [
    "spam = 10"
   ]
  },
  {
   "cell_type": "code",
   "execution_count": 2,
   "id": "5fe41165",
   "metadata": {},
   "outputs": [
    {
     "data": {
      "text/plain": [
       "10"
      ]
     },
     "execution_count": 2,
     "metadata": {},
     "output_type": "execute_result"
    }
   ],
   "source": [
    "spam"
   ]
  },
  {
   "cell_type": "markdown",
   "id": "d063accc",
   "metadata": {},
   "source": [
    "### Question.6) After running the following code, what does the variable bacon contain?\n",
    "\n",
    "bacon = 22\n",
    "bacon + 1\n"
   ]
  },
  {
   "cell_type": "code",
   "execution_count": 5,
   "id": "9ff535be",
   "metadata": {},
   "outputs": [],
   "source": [
    "bacon = 22\n",
    "bacon = bacon + 1"
   ]
  },
  {
   "cell_type": "code",
   "execution_count": 6,
   "id": "8bc46b37",
   "metadata": {},
   "outputs": [
    {
     "data": {
      "text/plain": [
       "23"
      ]
     },
     "execution_count": 6,
     "metadata": {},
     "output_type": "execute_result"
    }
   ],
   "source": [
    "bacon"
   ]
  },
  {
   "cell_type": "markdown",
   "id": "fb35dacd",
   "metadata": {},
   "source": [
    "### Question.7) What should the values of the following two terms be?\n",
    "\n",
    "'spam' + 'spamspam'\n",
    "'spam' * 3\n"
   ]
  },
  {
   "cell_type": "code",
   "execution_count": 7,
   "id": "88149477",
   "metadata": {},
   "outputs": [
    {
     "data": {
      "text/plain": [
       "'spamspamspam'"
      ]
     },
     "execution_count": 7,
     "metadata": {},
     "output_type": "execute_result"
    }
   ],
   "source": [
    "\"spam\" + \"spamspam\""
   ]
  },
  {
   "cell_type": "code",
   "execution_count": 8,
   "id": "10e70eab",
   "metadata": {},
   "outputs": [
    {
     "data": {
      "text/plain": [
       "'spamspamspam'"
      ]
     },
     "execution_count": 8,
     "metadata": {},
     "output_type": "execute_result"
    }
   ],
   "source": [
    "\"spam\"*3"
   ]
  },
  {
   "cell_type": "markdown",
   "id": "301db411",
   "metadata": {},
   "source": [
    "### Question.8) Why is eggs a valid variable name while 100 is invalid?\n",
    "\n",
    "Rules for python variable are as following\n",
    "\n",
    "1.A variable name must start with a letter or the underscore character\n",
    "2.A variable name cannot start with a number\n",
    "3.A variable name can only contain alpha-numeric characters and underscores (A-z, 0-9, and _ )\n",
    "4.Variable names are case-sensitive (age, Age and AGE are three different variables)\n",
    "\n",
    "'eggs' is a valid variable name as it follows above all rules. while in case '100' as it starts with a number hence it is an invalid variable name."
   ]
  },
  {
   "cell_type": "markdown",
   "id": "cd4dc238",
   "metadata": {},
   "source": [
    "### Question.9) What three functions can be used to get the integer, floating-point number, or string version of a value?\n",
    "\n",
    "The int() , float() , and str( ) functions will evaluate to the integer, floating-point number, and string versions of the value passed to them.\n"
   ]
  },
  {
   "cell_type": "code",
   "execution_count": 5,
   "id": "6178ade2",
   "metadata": {},
   "outputs": [
    {
     "data": {
      "text/plain": [
       "50"
      ]
     },
     "execution_count": 5,
     "metadata": {},
     "output_type": "execute_result"
    }
   ],
   "source": [
    "x =50\n",
    "int(x)"
   ]
  },
  {
   "cell_type": "code",
   "execution_count": 6,
   "id": "208005d7",
   "metadata": {},
   "outputs": [
    {
     "data": {
      "text/plain": [
       "50.0"
      ]
     },
     "execution_count": 6,
     "metadata": {},
     "output_type": "execute_result"
    }
   ],
   "source": [
    "float(x)"
   ]
  },
  {
   "cell_type": "code",
   "execution_count": 7,
   "id": "c0b96864",
   "metadata": {},
   "outputs": [
    {
     "data": {
      "text/plain": [
       "'50'"
      ]
     },
     "execution_count": 7,
     "metadata": {},
     "output_type": "execute_result"
    }
   ],
   "source": [
    "str(x)"
   ]
  },
  {
   "cell_type": "markdown",
   "id": "53f3c1c0",
   "metadata": {},
   "source": [
    "### Question.10) . Why does this expression cause an error? How can you fix it?\n",
    "\n",
    "'I have eaten ' + 99 + ' burritos.'"
   ]
  },
  {
   "cell_type": "code",
   "execution_count": 9,
   "id": "a5038779",
   "metadata": {},
   "outputs": [
    {
     "ename": "TypeError",
     "evalue": "can only concatenate str (not \"int\") to str",
     "output_type": "error",
     "traceback": [
      "\u001b[1;31m---------------------------------------------------------------------------\u001b[0m",
      "\u001b[1;31mTypeError\u001b[0m                                 Traceback (most recent call last)",
      "Input \u001b[1;32mIn [9]\u001b[0m, in \u001b[0;36m<cell line: 1>\u001b[1;34m()\u001b[0m\n\u001b[1;32m----> 1\u001b[0m \u001b[38;5;124;43m'\u001b[39;49m\u001b[38;5;124;43mI have eaten \u001b[39;49m\u001b[38;5;124;43m'\u001b[39;49m\u001b[43m \u001b[49m\u001b[38;5;241;43m+\u001b[39;49m\u001b[43m \u001b[49m\u001b[38;5;241;43m99\u001b[39;49m \u001b[38;5;241m+\u001b[39m \u001b[38;5;124m'\u001b[39m\u001b[38;5;124m burritos.\u001b[39m\u001b[38;5;124m'\u001b[39m\n",
      "\u001b[1;31mTypeError\u001b[0m: can only concatenate str (not \"int\") to str"
     ]
    }
   ],
   "source": [
    "'I have eaten ' + 99 + ' burritos.'"
   ]
  },
  {
   "cell_type": "code",
   "execution_count": 10,
   "id": "69ae5bb5",
   "metadata": {},
   "outputs": [
    {
     "data": {
      "text/plain": [
       "'I have eaten 99 burritos.'"
      ]
     },
     "execution_count": 10,
     "metadata": {},
     "output_type": "execute_result"
    }
   ],
   "source": [
    "'I have eaten ' + '99' + ' burritos.'"
   ]
  },
  {
   "cell_type": "code",
   "execution_count": null,
   "id": "4e954971",
   "metadata": {},
   "outputs": [],
   "source": []
  }
 ],
 "metadata": {
  "kernelspec": {
   "display_name": "Python 3 (ipykernel)",
   "language": "python",
   "name": "python3"
  },
  "language_info": {
   "codemirror_mode": {
    "name": "ipython",
    "version": 3
   },
   "file_extension": ".py",
   "mimetype": "text/x-python",
   "name": "python",
   "nbconvert_exporter": "python",
   "pygments_lexer": "ipython3",
   "version": "3.9.12"
  }
 },
 "nbformat": 4,
 "nbformat_minor": 5
}
