{
 "cells": [
  {
   "cell_type": "markdown",
   "id": "02bdd65a",
   "metadata": {},
   "source": [
    "## Question.1)\tWrite a Python program to print \"Hello Python\"?"
   ]
  },
  {
   "cell_type": "code",
   "execution_count": 1,
   "id": "a830cd03",
   "metadata": {},
   "outputs": [
    {
     "name": "stdout",
     "output_type": "stream",
     "text": [
      "Hello Python\n"
     ]
    }
   ],
   "source": [
    "print(\"Hello Python\")"
   ]
  },
  {
   "cell_type": "markdown",
   "id": "2612d0b8",
   "metadata": {},
   "source": [
    "## Question.2)\tWrite a Python program to do arithmetical operations addition and division.?"
   ]
  },
  {
   "cell_type": "code",
   "execution_count": 2,
   "id": "f664fd4e",
   "metadata": {},
   "outputs": [
    {
     "name": "stdout",
     "output_type": "stream",
     "text": [
      "30\n",
      "2.0\n"
     ]
    }
   ],
   "source": [
    "a = 20\n",
    "b = 10\n",
    "c = a + b\n",
    "d = a/b\n",
    "print(c)\n",
    "print(d)"
   ]
  },
  {
   "cell_type": "markdown",
   "id": "41550e4c",
   "metadata": {},
   "source": [
    "## Question.3) Write a Python program to find the area of a triangle?"
   ]
  },
  {
   "cell_type": "code",
   "execution_count": null,
   "id": "73eaee67",
   "metadata": {},
   "outputs": [],
   "source": [
    "## when height and base of a triangle is given"
   ]
  },
  {
   "cell_type": "code",
   "execution_count": 5,
   "id": "072edc04",
   "metadata": {},
   "outputs": [
    {
     "name": "stdout",
     "output_type": "stream",
     "text": [
      "enter the length of base of a triangle in cm : 20\n",
      "enter the length of height of a triangle in cm : 30\n",
      "Area of the given triangle is :  300.0 cm2\n"
     ]
    }
   ],
   "source": [
    "a =int(input('enter the length of base of a triangle in cm : '))\n",
    "b =int(input('enter the length of height of a triangle in cm : '))\n",
    "c = (1/2)*a*b\n",
    "print(\"Area of the given triangle is : \" , c , \"cm2\")"
   ]
  },
  {
   "cell_type": "code",
   "execution_count": 17,
   "id": "cda6f338",
   "metadata": {},
   "outputs": [],
   "source": [
    "## when all three sides of the triangle are given"
   ]
  },
  {
   "cell_type": "code",
   "execution_count": 23,
   "id": "05bb4c89",
   "metadata": {},
   "outputs": [
    {
     "name": "stdout",
     "output_type": "stream",
     "text": [
      "Enter the first side of a Triangle : 3\n",
      "Enter the second side of a Triangle : 4\n",
      "Enter the third side of a Triangle : 5\n",
      "Area of the given triangle is :  6.0\n"
     ]
    }
   ],
   "source": [
    "a = float(input(\"Enter the first side of a Triangle : \"))\n",
    "b = float(input(\"Enter the second side of a Triangle : \"))\n",
    "c = float(input(\"Enter the third side of a Triangle : \"))\n",
    "\n",
    "s = (a+b+c)/2         ## s is the semiperimeter of the triangle\n",
    "Area = (s*(s-a)*(s-b)*(s-c))**0.5\n",
    "print(\"Area of the given triangle is : \" , Area)"
   ]
  },
  {
   "cell_type": "markdown",
   "id": "9b166803",
   "metadata": {},
   "source": [
    "## Question.4) Write a Python program to swap two variables?"
   ]
  },
  {
   "cell_type": "code",
   "execution_count": 8,
   "id": "902228ab",
   "metadata": {},
   "outputs": [
    {
     "name": "stdout",
     "output_type": "stream",
     "text": [
      "Enter your First name : Sudhanshu\n",
      "Enter your Surname : Kumar\n",
      "Your first name after swapping :  Kumar\n",
      "Your Last name after swapping :  Sudhanshu\n"
     ]
    }
   ],
   "source": [
    "a = input(\"Enter your First name : \")\n",
    "b = input(\"Enter your Surname : \")\n",
    "c = a\n",
    "a = b\n",
    "b = c\n",
    "print(\"Your first name after swapping : \" , a)\n",
    "print(\"Your Last name after swapping : \" , b)"
   ]
  },
  {
   "cell_type": "markdown",
   "id": "a50d183f",
   "metadata": {},
   "source": [
    "## Question.5) Write a Python program to generate a random number?"
   ]
  },
  {
   "cell_type": "code",
   "execution_count": 10,
   "id": "b2029562",
   "metadata": {},
   "outputs": [
    {
     "name": "stdout",
     "output_type": "stream",
     "text": [
      "0.9744753077950742\n"
     ]
    }
   ],
   "source": [
    "import random\n",
    "\n",
    "a = random.random()\n",
    "print(a)"
   ]
  },
  {
   "cell_type": "code",
   "execution_count": 11,
   "id": "c6b3eb72",
   "metadata": {},
   "outputs": [
    {
     "name": "stdout",
     "output_type": "stream",
     "text": [
      "0.5302803706295126\n"
     ]
    }
   ],
   "source": [
    "import random\n",
    "\n",
    "a = random.random()\n",
    "print(a)"
   ]
  },
  {
   "cell_type": "code",
   "execution_count": 13,
   "id": "e6b354c8",
   "metadata": {},
   "outputs": [
    {
     "name": "stdout",
     "output_type": "stream",
     "text": [
      "89\n"
     ]
    }
   ],
   "source": [
    "import random\n",
    "\n",
    "a = random.randint(50 , 100)\n",
    "print(a)"
   ]
  },
  {
   "cell_type": "code",
   "execution_count": 16,
   "id": "bc249953",
   "metadata": {},
   "outputs": [
    {
     "name": "stdout",
     "output_type": "stream",
     "text": [
      "[55, 82, 60, 77, 65, 78, 96, 59, 70, 34]\n"
     ]
    }
   ],
   "source": [
    "import random\n",
    "\n",
    "l = []\n",
    "for i in range(10) :\n",
    "    i = random.randint(1,100)\n",
    "    l.append(i)\n",
    "print(l)\n",
    "    "
   ]
  },
  {
   "cell_type": "code",
   "execution_count": null,
   "id": "1f8db2b6",
   "metadata": {},
   "outputs": [],
   "source": []
  }
 ],
 "metadata": {
  "kernelspec": {
   "display_name": "Python 3 (ipykernel)",
   "language": "python",
   "name": "python3"
  },
  "language_info": {
   "codemirror_mode": {
    "name": "ipython",
    "version": 3
   },
   "file_extension": ".py",
   "mimetype": "text/x-python",
   "name": "python",
   "nbconvert_exporter": "python",
   "pygments_lexer": "ipython3",
   "version": "3.9.12"
  }
 },
 "nbformat": 4,
 "nbformat_minor": 5
}
