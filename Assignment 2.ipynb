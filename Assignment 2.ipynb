{
 "cells": [
  {
   "cell_type": "markdown",
   "id": "f660704f",
   "metadata": {},
   "source": [
    "## Question.1) What are the two values of the Boolean data type? How do you write them?\n",
    "\n",
    "The two values of the boolean data types are : 1. True 2. False\n"
   ]
  },
  {
   "cell_type": "code",
   "execution_count": 2,
   "id": "96cf5e55",
   "metadata": {},
   "outputs": [],
   "source": [
    "a = 10\n",
    "b = 20\n",
    "c = a<b\n",
    "d = a>b"
   ]
  },
  {
   "cell_type": "code",
   "execution_count": 3,
   "id": "b0706a31",
   "metadata": {},
   "outputs": [
    {
     "data": {
      "text/plain": [
       "True"
      ]
     },
     "execution_count": 3,
     "metadata": {},
     "output_type": "execute_result"
    }
   ],
   "source": [
    "c"
   ]
  },
  {
   "cell_type": "code",
   "execution_count": 4,
   "id": "5e1993ab",
   "metadata": {},
   "outputs": [
    {
     "data": {
      "text/plain": [
       "False"
      ]
     },
     "execution_count": 4,
     "metadata": {},
     "output_type": "execute_result"
    }
   ],
   "source": [
    "d"
   ]
  },
  {
   "cell_type": "markdown",
   "id": "ca829f56",
   "metadata": {},
   "source": [
    "## Question.2) What are the three different types of Boolean operators ?\n",
    "\n",
    "There are thre logical opeators which are used to compare the values.They evaluate expressions which gives result in form of the boolean values.\n",
    "1. and = returns True if both statements are true.\n",
    "   for ex. x < 5 and x < 10 \n",
    "   \n",
    "2. or  = returns True if one of the statements is True.\n",
    "   for ex. x < 4 or x < 6\n",
    "   \n",
    "3. not = Reverse the result i.e returns True if the result is False.\n",
    "   for ex. not( x < 5 and x < 10 )\n",
    "   "
   ]
  },
  {
   "cell_type": "code",
   "execution_count": 5,
   "id": "7d8f6257",
   "metadata": {},
   "outputs": [
    {
     "data": {
      "text/plain": [
       "True"
      ]
     },
     "execution_count": 5,
     "metadata": {},
     "output_type": "execute_result"
    }
   ],
   "source": [
    "x = 4\n",
    "x < 5 and x < 10"
   ]
  },
  {
   "cell_type": "code",
   "execution_count": 6,
   "id": "68f0db67",
   "metadata": {},
   "outputs": [
    {
     "data": {
      "text/plain": [
       "True"
      ]
     },
     "execution_count": 6,
     "metadata": {},
     "output_type": "execute_result"
    }
   ],
   "source": [
    "x < 4 or x < 6"
   ]
  },
  {
   "cell_type": "code",
   "execution_count": 7,
   "id": "d6ecfaf0",
   "metadata": {},
   "outputs": [
    {
     "data": {
      "text/plain": [
       "False"
      ]
     },
     "execution_count": 7,
     "metadata": {},
     "output_type": "execute_result"
    }
   ],
   "source": [
    "not(x < 5 and x < 10)"
   ]
  },
  {
   "cell_type": "code",
   "execution_count": null,
   "id": "f65e94b8",
   "metadata": {},
   "outputs": [],
   "source": []
  },
  {
   "cell_type": "markdown",
   "id": "8f97060f",
   "metadata": {},
   "source": [
    "### Question.3) . Make a list of each Boolean operator's truth tables (i.e. every possible combination of Boolean values for the operator and what it evaluate ).\n",
    "\n"
   ]
  },
  {
   "cell_type": "markdown",
   "id": "41fb6efc",
   "metadata": {},
   "source": [
    "\n",
    "1. and Boolean operator\n",
    "\n",
    "A             B         A and B\n",
    "True         True         True\n",
    "False        True         False\n",
    "True         False        False\n",
    "False        False        False\n",
    "\n",
    "\n",
    "2. or Boolean operator\n",
    "\n",
    "A            B          A or B\n",
    "True        True          True\n",
    "False       True          True\n",
    "True        False         True\n",
    "False       False         False\n",
    "\n",
    "3. not Boolean operator\n",
    "\n",
    "A           not A\n",
    "True         False\n",
    "False        True\n",
    "\n"
   ]
  },
  {
   "cell_type": "markdown",
   "id": "2008fcf5",
   "metadata": {},
   "source": [
    "## Question.4) What are the values of the following expressions?\n",
    "1.  (5 > 4) and (3 == 5)\n",
    "2.  not (5 > 4)\n",
    "3.  (5 > 4) or (3 == 5)\n",
    "4.  not ((5 > 4) or (3 == 5))\n",
    "(True and True) and (True == False)\n",
    "(not False) or (not True)\n"
   ]
  },
  {
   "cell_type": "code",
   "execution_count": 1,
   "id": "f6126434",
   "metadata": {},
   "outputs": [
    {
     "data": {
      "text/plain": [
       "False"
      ]
     },
     "execution_count": 1,
     "metadata": {},
     "output_type": "execute_result"
    }
   ],
   "source": [
    "(5 > 4) and (3 == 5) #---> False i.e (not True)"
   ]
  },
  {
   "cell_type": "code",
   "execution_count": 2,
   "id": "2ac5893b",
   "metadata": {},
   "outputs": [
    {
     "data": {
      "text/plain": [
       "False"
      ]
     },
     "execution_count": 2,
     "metadata": {},
     "output_type": "execute_result"
    }
   ],
   "source": [
    "not (5 > 4)  #---> False i.e (not True)"
   ]
  },
  {
   "cell_type": "code",
   "execution_count": 3,
   "id": "32c426b7",
   "metadata": {},
   "outputs": [
    {
     "data": {
      "text/plain": [
       "True"
      ]
     },
     "execution_count": 3,
     "metadata": {},
     "output_type": "execute_result"
    }
   ],
   "source": [
    "(5 > 4) or (3 == 5) #---> (not False) or (not True)"
   ]
  },
  {
   "cell_type": "code",
   "execution_count": 4,
   "id": "2f0a8b8d",
   "metadata": {},
   "outputs": [
    {
     "data": {
      "text/plain": [
       "False"
      ]
     },
     "execution_count": 4,
     "metadata": {},
     "output_type": "execute_result"
    }
   ],
   "source": [
    " not ((5 > 4) or (3 == 5))"
   ]
  },
  {
   "cell_type": "code",
   "execution_count": null,
   "id": "caa846df",
   "metadata": {},
   "outputs": [],
   "source": []
  },
  {
   "cell_type": "markdown",
   "id": "40610326",
   "metadata": {},
   "source": [
    "## Question.5) What are the six comparison operators?\n",
    "\n",
    "Comparison operators are used to comparing the value of the two operands and returns Boolean true or false accordingly. The comparison operators are described as follows.\n",
    "\n",
    "1. == ---> If the value of the two operands is equal, then the condition becomes true.\n",
    "\n",
    "2. != ---> If the value of the two operands is not equal, then the condition becomes true.\n",
    "\n",
    "3. <= ---> If the first operand is less than or equal to the second operand, then the condition becomes true.\n",
    "\n",
    "4. >= ---> If the first operand is greater than or equal to the second operand, then the condition becomes true.\n",
    "\n",
    "5. < ---> If the first operand is less than the second operand, then the condition becomes true.\n",
    "\n",
    "6. > ---> If the first operand is greater than the second operand, then the condition becomes true."
   ]
  },
  {
   "cell_type": "code",
   "execution_count": null,
   "id": "6f10fadb",
   "metadata": {},
   "outputs": [],
   "source": []
  },
  {
   "cell_type": "markdown",
   "id": "206a303f",
   "metadata": {},
   "source": [
    "### Question.6) How do you tell the difference between the equal to and assignment operators?Describe a condition and when you would use one.\n",
    "\n",
    "1. The assignment operators are used to assign the value of the right side expression to the left side operand.\n",
    "\n",
    "2. equal to i.e (==)  ---> If the value of the two operands is equal, then the condition becomes true.\n",
    "\n",
    "example :\n",
    "\n",
    "x = 5 here 5 is assigned to variable x\n",
    "\n"
   ]
  },
  {
   "cell_type": "code",
   "execution_count": 14,
   "id": "67cff54b",
   "metadata": {},
   "outputs": [
    {
     "name": "stdout",
     "output_type": "stream",
     "text": [
      "5\n"
     ]
    }
   ],
   "source": [
    "x = 5\n",
    "print(x)"
   ]
  },
  {
   "cell_type": "code",
   "execution_count": 1,
   "id": "3856b0a5",
   "metadata": {},
   "outputs": [
    {
     "name": "stdout",
     "output_type": "stream",
     "text": [
      "this is the use of equal to operator\n"
     ]
    }
   ],
   "source": [
    "y = 5 \n",
    "z = 5\n",
    "if y == z :\n",
    "    print(\"this is the use of equal to operator\")\n",
    "    "
   ]
  },
  {
   "cell_type": "code",
   "execution_count": null,
   "id": "a1694d69",
   "metadata": {},
   "outputs": [],
   "source": []
  },
  {
   "cell_type": "markdown",
   "id": "a34cafa2",
   "metadata": {},
   "source": [
    "### Question.7) Identify the three blocks in this code:\n",
    "\n",
    "spam = 0\n",
    "if spam == 10:\n",
    "print('eggs')\n",
    "if spam > 5:\n",
    "print('bacon')\n",
    "else:\n",
    "print('ham')\n",
    "print('spam')\n",
    "print('spam')\n"
   ]
  },
  {
   "cell_type": "code",
   "execution_count": 15,
   "id": "a2ece507",
   "metadata": {},
   "outputs": [
    {
     "name": "stdout",
     "output_type": "stream",
     "text": [
      "ham\n",
      "spam\n",
      "spam\n"
     ]
    }
   ],
   "source": [
    "spam = 0\n",
    "if spam == 10:\n",
    "    print('eggs')\n",
    "if spam > 5:\n",
    "    print('bacon')\n",
    "else:\n",
    "    print('ham')\n",
    "    print('spam')\n",
    "    print('spam')\n"
   ]
  },
  {
   "cell_type": "code",
   "execution_count": null,
   "id": "283a5c87",
   "metadata": {},
   "outputs": [],
   "source": []
  },
  {
   "cell_type": "markdown",
   "id": "6adb0e46",
   "metadata": {},
   "source": [
    "### Question.8) . Write code that prints Hello if 1 is stored in spam, prints Howdy if 2 is stored in spam, and prints Greetings! if anything else is stored in spam."
   ]
  },
  {
   "cell_type": "code",
   "execution_count": 19,
   "id": "7245c983",
   "metadata": {},
   "outputs": [
    {
     "name": "stdout",
     "output_type": "stream",
     "text": [
      "enter the value of spam : 1\n",
      "Hello\n",
      "Greetings!\n"
     ]
    }
   ],
   "source": [
    "spam = int(input(\"enter the value of spam : \"))\n",
    "if spam == 1 :\n",
    "    print(\"Hello\")\n",
    "if spam == 2 :\n",
    "    print(\"Howdy\")\n",
    "else :\n",
    "    print(\"Greetings!\")"
   ]
  },
  {
   "cell_type": "code",
   "execution_count": null,
   "id": "aea72c2b",
   "metadata": {},
   "outputs": [],
   "source": []
  },
  {
   "cell_type": "markdown",
   "id": "85b042ae",
   "metadata": {},
   "source": [
    "### Question.9) If your programme is stuck in an endless loop, what keys you’ll press?\n",
    "\n",
    "If programme is stuck in the endless loop then follow the below steps :\n",
    "1. Go to the kernel\n",
    "2. press the Restart button."
   ]
  },
  {
   "cell_type": "code",
   "execution_count": null,
   "id": "3282796f",
   "metadata": {},
   "outputs": [],
   "source": []
  },
  {
   "cell_type": "markdown",
   "id": "cf1c7e36",
   "metadata": {},
   "source": [
    "### Question.10) How can you tell the difference between break and continue?\n",
    "\n",
    "The break is a keyword in python which is used to bring the program control out of the loop. The break statement breaks the loops one by one, i.e., in the case of nested loops, it breaks the inner loop first and then proceeds to outer loops. In other words, we can say that break is used to abort the current execution of the program and the control goes to the next line after the loop. The break is commonly used in the cases where we need to break the loop for a given condition.\n",
    "\n",
    "In Python, the continue keyword return control of the iteration to the beginning of the for loop or while loop. All remaining lines in the prevailing iteration of the loop are skipped by the continue keyword, which returns execution to the beginning of the next iteration of the loop.\n"
   ]
  },
  {
   "cell_type": "code",
   "execution_count": 31,
   "id": "58fa7c5c",
   "metadata": {},
   "outputs": [
    {
     "name": "stdout",
     "output_type": "stream",
     "text": [
      "p\n",
      "y\n",
      "t\n",
      "h\n"
     ]
    }
   ],
   "source": [
    "# example of the break\n",
    "s = \"python\"\n",
    "for i in s:\n",
    "    if i == \"o\":\n",
    "        break\n",
    "    print(i)"
   ]
  },
  {
   "cell_type": "code",
   "execution_count": 29,
   "id": "133b9a5e",
   "metadata": {},
   "outputs": [
    {
     "name": "stdout",
     "output_type": "stream",
     "text": [
      "item matched\n",
      "found at 1 location\n"
     ]
    }
   ],
   "source": [
    "# example of the break\n",
    "list =[1,2,3,4]  \n",
    "count = 0;  \n",
    "for i in list:  \n",
    "    if i == 2:  \n",
    "        print(\"item matched\")  \n",
    "        break \n",
    "    count = count + 1\n",
    "print(\"found at\",count,\"location\")"
   ]
  },
  {
   "cell_type": "code",
   "execution_count": 37,
   "id": "876a2c6a",
   "metadata": {},
   "outputs": [
    {
     "name": "stdout",
     "output_type": "stream",
     "text": [
      "k s h y "
     ]
    }
   ],
   "source": [
    "# example of the continue\n",
    "s = \"akshay\"\n",
    "i = 0\n",
    "for i in s :\n",
    "    if i == 'a' :\n",
    "        continue\n",
    "    print(i, end =\" \")"
   ]
  },
  {
   "cell_type": "code",
   "execution_count": null,
   "id": "05a2d9f4",
   "metadata": {},
   "outputs": [],
   "source": []
  },
  {
   "cell_type": "markdown",
   "id": "420cfb5b",
   "metadata": {},
   "source": [
    "### Question.11) In a for loop, what is the difference between range(10), range(0, 10), and range(0, 10, 1)?\n",
    "\n",
    "There is no difference between above all three operations given in the question. as it results in same answer. Different examples of using these functions are as follows. If only upper bound is mentioned inside the parenthesis of range function then it will consider lower bound as 0 ,upper bound as the value which we have mentioned earlier and jump size as 1. If both lower bound and upper bound are mentioned but jump size is not mentioned then it will consider its value as 1.\n",
    "\n"
   ]
  },
  {
   "cell_type": "code",
   "execution_count": 38,
   "id": "ba1c64c7",
   "metadata": {},
   "outputs": [
    {
     "data": {
      "text/plain": [
       "range(0, 10)"
      ]
     },
     "execution_count": 38,
     "metadata": {},
     "output_type": "execute_result"
    }
   ],
   "source": [
    "range(10)"
   ]
  },
  {
   "cell_type": "code",
   "execution_count": 40,
   "id": "671d3305",
   "metadata": {},
   "outputs": [
    {
     "name": "stdout",
     "output_type": "stream",
     "text": [
      "0 1 2 3 4 5 6 7 8 9 "
     ]
    }
   ],
   "source": [
    "for i in range(10) :\n",
    "    print(i, end =\" \")"
   ]
  },
  {
   "cell_type": "code",
   "execution_count": 41,
   "id": "443bd3f2",
   "metadata": {},
   "outputs": [
    {
     "name": "stdout",
     "output_type": "stream",
     "text": [
      "0 1 2 3 4 5 6 7 8 9 "
     ]
    }
   ],
   "source": [
    "for i in range(0,10) :\n",
    "    print(i, end = \" \")"
   ]
  },
  {
   "cell_type": "code",
   "execution_count": 42,
   "id": "08c36226",
   "metadata": {},
   "outputs": [
    {
     "name": "stdout",
     "output_type": "stream",
     "text": [
      "0 1 2 3 4 5 6 7 8 9 "
     ]
    }
   ],
   "source": [
    "for i in range(0,10,1) :\n",
    "    print(i, end =\" \")"
   ]
  },
  {
   "cell_type": "code",
   "execution_count": null,
   "id": "f25e8bb6",
   "metadata": {},
   "outputs": [],
   "source": []
  },
  {
   "cell_type": "markdown",
   "id": "77d5c43b",
   "metadata": {},
   "source": [
    "### Question.12) Write a short program that prints the numbers 1 to 10 using a for loop. Then write an equivalent program that prints the numbers 1 to 10 using a while loop.\n"
   ]
  },
  {
   "cell_type": "code",
   "execution_count": 46,
   "id": "de893be0",
   "metadata": {},
   "outputs": [
    {
     "name": "stdout",
     "output_type": "stream",
     "text": [
      "1, 2, 3, 4, 5, 6, 7, 8, 9, 10, "
     ]
    }
   ],
   "source": [
    "for i in range(1,11) :\n",
    "    print(i, end =\", \")"
   ]
  },
  {
   "cell_type": "code",
   "execution_count": 45,
   "id": "f5f369df",
   "metadata": {},
   "outputs": [
    {
     "name": "stdout",
     "output_type": "stream",
     "text": [
      "1, 2, 3, 4, 5, 6, 7, 8, 9, 10, "
     ]
    }
   ],
   "source": [
    "i = 1\n",
    "while i <= 10 :\n",
    "    print(i,end=\", \")\n",
    "    i = i+1"
   ]
  },
  {
   "cell_type": "code",
   "execution_count": null,
   "id": "8ca46606",
   "metadata": {},
   "outputs": [],
   "source": []
  },
  {
   "cell_type": "markdown",
   "id": "bd1c759f",
   "metadata": {},
   "source": [
    "### Question.13) If you had a function named bacon() inside a module named spam, how would you call it after importing spam\n"
   ]
  },
  {
   "cell_type": "markdown",
   "id": "71422b6e",
   "metadata": {},
   "source": [
    "This function can be called with spam. bacon()\n"
   ]
  }
 ],
 "metadata": {
  "kernelspec": {
   "display_name": "Python 3 (ipykernel)",
   "language": "python",
   "name": "python3"
  },
  "language_info": {
   "codemirror_mode": {
    "name": "ipython",
    "version": 3
   },
   "file_extension": ".py",
   "mimetype": "text/x-python",
   "name": "python",
   "nbconvert_exporter": "python",
   "pygments_lexer": "ipython3",
   "version": "3.9.12"
  }
 },
 "nbformat": 4,
 "nbformat_minor": 5
}
